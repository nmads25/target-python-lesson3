{
  "cells": [
    {
      "metadata": {
        "id": "aHmCKsrR3r48"
      },
      "cell_type": "markdown",
      "source": [
        "# Part 3 Challenges\n",
        "\n",
        "## Challenge 3.1\n",
        "\n",
        "### Objective\n",
        "\n",
        "Create a class that has a method that can convert a roman numeral to an integer and create another method that can take an integer and turn it into a roman numeral. You may not import any modules.\n",
        "\n",
        "### Hints\n",
        "\n",
        "- Look how to take strings and splice them\n",
        "\n",
        "### Solution\n",
        "\n",
        "Write below your solution.\n",
        "Here an example of how objects of the class could work.\n",
        "\n",
        "```\n",
        "my_object = roman()\n",
        "\n",
        "print(my_object.int2roman(7))\n",
        "VII\n",
        "\n",
        "print(my_object.roman2int(IX))\n",
        "9\n",
        "```"
      ]
    },
    {
      "metadata": {
        "colab": {
          "base_uri": "https://localhost:8080/",
          "height": 106
        },
        "id": "eK2_fxy33r5G",
        "outputId": "87cc3349-0c69-4d3c-9247-d4a493f8500c"
      },
      "cell_type": "code",
      "source": [
        "class roman:\n",
        "    def __init__(self):\n",
        "      self.roman_dict: dict = {'I': 1, 'V': 5, 'X': 10, 'L': 50, 'C': 100, 'D': 500, 'M': 1000}\n",
        "      self.reverse_roman_dict: dict = {1: 'I', 5: 'V', 10: 'X', 50: 'L', 100: 'C', 500: 'D', 1000: 'M'}\n",
        "      int.__init__(self) = (0, )\n",
        "\n",
        "    def int2roman(self, number: int) -> str:\n"
      ],
      "execution_count": 11,
      "outputs": [
        {
          "output_type": "error",
          "ename": "SyntaxError",
          "evalue": "invalid syntax. Perhaps you forgot a comma? (ipython-input-11-2832489653.py, line 5)",
          "traceback": [
            "\u001b[0;36m  File \u001b[0;32m\"/tmp/ipython-input-11-2832489653.py\"\u001b[0;36m, line \u001b[0;32m5\u001b[0m\n\u001b[0;31m    int.__init__(self) = (0, to 3999)\u001b[0m\n\u001b[0m                             ^\u001b[0m\n\u001b[0;31mSyntaxError\u001b[0m\u001b[0;31m:\u001b[0m invalid syntax. Perhaps you forgot a comma?\n"
          ]
        }
      ]
    },
    {
      "metadata": {
        "id": "fbJhBoZK3r5J"
      },
      "cell_type": "markdown",
      "source": [
        "## Challenge 3.2\n",
        "\n",
        "### Objective\n",
        "\n",
        "Count how many words are in the web page `https://www.python.org/about/gettingstarted/`. Look specifically in the `<p></p>` tag and count the words in there. A word is any text/numbers/whatever is separated by a space, so the text, \"`Installing Python is generally easy, and nowadays`\" there are 7 words.\n",
        "\n",
        "### Hints\n",
        "\n",
        "- Use the `http.client` module to get the web page\n",
        "- Remember to convert to UTF-8\n",
        "- Use the parser if you want to get all the paragraph tags\n",
        "\n",
        "### Solution\n",
        "\n",
        "Write below your solution."
      ]
    },
    {
      "metadata": {
        "id": "9_bR26jf3r5K"
      },
      "cell_type": "code",
      "source": [
        "print('Solution to Challenge 2 goes here')"
      ],
      "execution_count": null,
      "outputs": []
    },
    {
      "metadata": {
        "id": "tnltXsqJ3r5M"
      },
      "cell_type": "markdown",
      "source": [
        "## Challenge 3.3\n",
        "\n",
        "### Objective\n",
        "\n",
        "Create a 3D Matplotlib Surface Plot where,\n",
        "\n",
        "- X axis goes from -1 to 1 with a step of .1\n",
        "- Y axis is the absolute value of X\n",
        "- Z axis is the modulus of X to Y\n",
        "\n",
        "### Hints\n",
        "\n",
        "- Use numpy functions for mathematical operations\n",
        "- Most of the work has already been done in the Lesson\n",
        "- For the modulus function, first parameter is X, second parameter is Y\n",
        "\n",
        "### Solution\n",
        "\n",
        "Write below your solution.\n",
        "The resulting plot should be similar to the one depicted here\n",
        "\n",
        "![Graph Image Solution](https://i.imgur.com/qlIGnL1.png)"
      ]
    },
    {
      "metadata": {
        "id": "i3hq8VN73r5N"
      },
      "cell_type": "code",
      "source": [
        "print('Solution to Challenge 3 goes here')"
      ],
      "execution_count": null,
      "outputs": []
    }
  ],
  "metadata": {
    "language_info": {
      "name": "python"
    },
    "colab": {
      "provenance": []
    },
    "kernelspec": {
      "name": "python3",
      "display_name": "Python 3"
    }
  },
  "nbformat": 4,
  "nbformat_minor": 0
}